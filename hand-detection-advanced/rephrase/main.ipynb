{
 "cells": [
  {
   "cell_type": "code",
   "execution_count": 1,
   "metadata": {},
   "outputs": [
    {
     "name": "stderr",
     "output_type": "stream",
     "text": [
      "/home/cmaspi/.local/share/virtualenvs/hand-detection-advanced-8KyuWID6/lib/python3.10/site-packages/tqdm/auto.py:21: TqdmWarning: IProgress not found. Please update jupyter and ipywidgets. See https://ipywidgets.readthedocs.io/en/stable/user_install.html\n",
      "  from .autonotebook import tqdm as notebook_tqdm\n"
     ]
    }
   ],
   "source": [
    "from parrot import Parrot\n",
    "import torch\n",
    "import warnings\n",
    "\n",
    "warnings.filterwarnings(\"ignore\")\n"
   ]
  },
  {
   "cell_type": "code",
   "execution_count": 1,
   "metadata": {},
   "outputs": [
    {
     "name": "stderr",
     "output_type": "stream",
     "text": [
      "/home/cmaspi/.local/share/virtualenvs/hand-detection-advanced-8KyuWID6/lib/python3.10/site-packages/tqdm/auto.py:21: TqdmWarning: IProgress not found. Please update jupyter and ipywidgets. See https://ipywidgets.readthedocs.io/en/stable/user_install.html\n",
      "  from .autonotebook import tqdm as notebook_tqdm\n"
     ]
    }
   ],
   "source": [
    "from paraphrase import Paraphrase"
   ]
  },
  {
   "cell_type": "code",
   "execution_count": 2,
   "metadata": {},
   "outputs": [
    {
     "name": "stderr",
     "output_type": "stream",
     "text": [
      "2023-07-09 21:03:41.024445: I tensorflow/core/platform/cpu_feature_guard.cc:182] This TensorFlow binary is optimized to use available CPU instructions in performance-critical operations.\n",
      "To enable the following instructions: AVX2 FMA, in other operations, rebuild TensorFlow with the appropriate compiler flags.\n",
      "2023-07-09 21:03:41.741441: W tensorflow/compiler/tf2tensorrt/utils/py_utils.cc:38] TF-TRT Warning: Could not find TensorRT\n"
     ]
    },
    {
     "data": {
      "text/plain": [
       "[('in the video we can see that the hand was raised five times', 22),\n",
       " ('we see in the video that the hand was raised 5 times', 16)]"
      ]
     },
     "execution_count": 2,
     "metadata": {},
     "output_type": "execute_result"
    }
   ],
   "source": [
    "Paraphrase('In the video we saw that the hand was raised 5 times')"
   ]
  },
  {
   "cell_type": "code",
   "execution_count": 2,
   "metadata": {},
   "outputs": [],
   "source": [
    "def random_state(seed):\n",
    "  torch.manual_seed(seed)\n",
    "  if torch.cuda.is_available():\n",
    "    torch.cuda.manual_seed_all(seed)\n",
    "\n",
    "random_state(1234)"
   ]
  },
  {
   "cell_type": "code",
   "execution_count": 3,
   "metadata": {},
   "outputs": [
    {
     "name": "stderr",
     "output_type": "stream",
     "text": [
      "Downloading pytorch_model.bin: 100%|██████████| 438M/438M [01:44<00:00, 4.21MB/s] \n",
      "Downloading (…)okenizer_config.json: 100%|██████████| 48.0/48.0 [00:00<00:00, 208kB/s]\n",
      "Downloading (…)solve/main/vocab.txt: 100%|██████████| 232k/232k [00:00<00:00, 472kB/s]\n",
      "Downloading (…)cial_tokens_map.json: 100%|██████████| 112/112 [00:00<00:00, 586kB/s]\n",
      "Downloading (…)2b9e5/.gitattributes: 100%|██████████| 736/736 [00:00<00:00, 5.27MB/s]\n",
      "Downloading (…)_Pooling/config.json: 100%|██████████| 190/190 [00:00<00:00, 1.35MB/s]\n",
      "Downloading (…)3c1ed2b9e5/README.md: 100%|██████████| 3.74k/3.74k [00:00<00:00, 18.7MB/s]\n",
      "Downloading (…)1ed2b9e5/config.json: 100%|██████████| 686/686 [00:00<00:00, 3.10MB/s]\n",
      "Downloading (…)ce_transformers.json: 100%|██████████| 122/122 [00:00<00:00, 557kB/s]\n",
      "Downloading (…)c1ed2b9e5/merges.txt: 100%|██████████| 456k/456k [00:00<00:00, 2.16MB/s]\n",
      "Downloading pytorch_model.bin: 100%|██████████| 329M/329M [01:07<00:00, 4.88MB/s] \n",
      "Downloading (…)nce_bert_config.json: 100%|██████████| 53.0/53.0 [00:00<00:00, 216kB/s]\n",
      "Downloading (…)cial_tokens_map.json: 100%|██████████| 239/239 [00:00<00:00, 1.29MB/s]\n",
      "Downloading (…)2b9e5/tokenizer.json: 100%|██████████| 1.36M/1.36M [00:01<00:00, 1.17MB/s]\n",
      "Downloading (…)okenizer_config.json: 100%|██████████| 1.12k/1.12k [00:00<00:00, 3.76MB/s]\n",
      "Downloading (…)c1ed2b9e5/vocab.json: 100%|██████████| 798k/798k [00:00<00:00, 800kB/s]\n",
      "Downloading (…)ed2b9e5/modules.json: 100%|██████████| 229/229 [00:00<00:00, 1.63MB/s]\n"
     ]
    }
   ],
   "source": [
    "parrot = Parrot(model_tag=\"prithivida/parrot_paraphraser_on_T5\", use_gpu=False)"
   ]
  },
  {
   "cell_type": "code",
   "execution_count": 10,
   "metadata": {},
   "outputs": [],
   "source": [
    "phrases = ['In the video we saw that the hand was raised 5 times']"
   ]
  },
  {
   "cell_type": "code",
   "execution_count": 11,
   "metadata": {},
   "outputs": [
    {
     "name": "stdout",
     "output_type": "stream",
     "text": [
      "----------------------------------------------------------------------------------------------------\n",
      "Input_phrase:  In the video we saw that the hand was raised 5 times\n",
      "----------------------------------------------------------------------------------------------------\n",
      "('the video shows that the hand was raised five times', 25)\n",
      "('in the video we see that the hand was raised five times', 18)\n",
      "('in the video we saw that the hand was raised five times', 16)\n"
     ]
    }
   ],
   "source": [
    "for phrase in phrases:\n",
    "    print(\"-\"*100)\n",
    "    print(\"Input_phrase: \", phrase)\n",
    "    print(\"-\"*100)\n",
    "    para_phrases = parrot.augment(input_phrase=phrase)\n",
    "    for para_phrase in para_phrases:\n",
    "        print(para_phrase)"
   ]
  },
  {
   "cell_type": "code",
   "execution_count": 12,
   "metadata": {},
   "outputs": [
    {
     "data": {
      "text/plain": [
       "[('the video shows that the hand was raised five times', 25),\n",
       " ('in the video we see that the hand was raised five times', 18),\n",
       " ('in the video we saw that the hand was raised five times', 16)]"
      ]
     },
     "execution_count": 12,
     "metadata": {},
     "output_type": "execute_result"
    }
   ],
   "source": [
    "para_phrases"
   ]
  },
  {
   "cell_type": "code",
   "execution_count": null,
   "metadata": {},
   "outputs": [],
   "source": []
  }
 ],
 "metadata": {
  "kernelspec": {
   "display_name": "hand-detection-advanced-8KyuWID6",
   "language": "python",
   "name": "python3"
  },
  "language_info": {
   "codemirror_mode": {
    "name": "ipython",
    "version": 3
   },
   "file_extension": ".py",
   "mimetype": "text/x-python",
   "name": "python",
   "nbconvert_exporter": "python",
   "pygments_lexer": "ipython3",
   "version": "3.10.6"
  },
  "orig_nbformat": 4
 },
 "nbformat": 4,
 "nbformat_minor": 2
}

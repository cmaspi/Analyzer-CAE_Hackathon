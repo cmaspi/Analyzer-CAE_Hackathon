{
 "cells": [
  {
   "cell_type": "code",
   "execution_count": 1,
   "metadata": {},
   "outputs": [
    {
     "name": "stderr",
     "output_type": "stream",
     "text": [
      "2023-07-10 23:00:09.520342: I tensorflow/tsl/cuda/cudart_stub.cc:28] Could not find cuda drivers on your machine, GPU will not be used.\n",
      "2023-07-10 23:00:09.583672: I tensorflow/tsl/cuda/cudart_stub.cc:28] Could not find cuda drivers on your machine, GPU will not be used.\n",
      "2023-07-10 23:00:09.584360: I tensorflow/core/platform/cpu_feature_guard.cc:182] This TensorFlow binary is optimized to use available CPU instructions in performance-critical operations.\n",
      "To enable the following instructions: AVX2 FMA, in other operations, rebuild TensorFlow with the appropriate compiler flags.\n",
      "2023-07-10 23:00:10.525154: W tensorflow/compiler/tf2tensorrt/utils/py_utils.cc:38] TF-TRT Warning: Could not find TensorRT\n",
      "/home/cmaspi/.local/share/virtualenvs/hand-detection-advanced-8KyuWID6/lib/python3.10/site-packages/tqdm/auto.py:21: TqdmWarning: IProgress not found. Please update jupyter and ipywidgets. See https://ipywidgets.readthedocs.io/en/stable/user_install.html\n",
      "  from .autonotebook import tqdm as notebook_tqdm\n",
      "INFO: Created TensorFlow Lite XNNPACK delegate for CPU.\n"
     ]
    }
   ],
   "source": [
    "from hand_detection import preprocess\n",
    "from rephrase.paraphrase import Paraphrase\n",
    "import tensorflow as tf\n",
    "from hand_detection.preprocess import *\n",
    "import cv2\n",
    "import numpy\n",
    "import math\n",
    "\n",
    "\n",
    "model = tf.keras.models.load_model('./sign-classification/SavedModel/')\n",
    "HANDMARKER = HandMarker()"
   ]
  },
  {
   "cell_type": "code",
   "execution_count": 2,
   "metadata": {},
   "outputs": [],
   "source": [
    "raised_hand = []"
   ]
  },
  {
   "cell_type": "code",
   "execution_count": 3,
   "metadata": {},
   "outputs": [
    {
     "name": "stdout",
     "output_type": "stream",
     "text": [
      "FPS: 30\n",
      "Starting Processing the video!\n",
      "Can't receive frame (stream end?). Exiting ...\n",
      "[(False, 0.03333333333333333), (True, 2.1333333333333333), (False, 6.566666666666666), (True, 10.1), (False, 13.933333333333334), (True, 16.233333333333334), (False, 21.766666666666666), (True, 23.966666666666665)]\n"
     ]
    }
   ],
   "source": [
    "cap = cv2.VideoCapture('/home/cmaspi/Projects/hand-detection-advanced/test_vdeo.mp4')\n",
    "fps = cap.get(cv2.CAP_PROP_FPS)\n",
    "fps = math.ceil(fps)\n",
    "frame_count = 0\n",
    "print(f'FPS: {fps}')\n",
    "if not cap.isOpened():\n",
    "    print('Error opening the video stream')\n",
    "\n",
    "print('Starting Processing the video!')\n",
    "while cap.isOpened():\n",
    "    ret, frame = cap.read()\n",
    "    frame_count += 1\n",
    "    if not ret:\n",
    "        print(\"Can't receive frame (stream end?). Exiting ...\")\n",
    "        break\n",
    "    \n",
    "    img = cv2.cvtColor(frame, cv2.COLOR_BGR2RGB)\n",
    "    try:\n",
    "        _ = HANDMARKER.give_box(img)\n",
    "        if (raised_hand and not raised_hand[-1][0]) or not raised_hand:\n",
    "            if raised_hand and frame_count/fps - raised_hand[-1][1] < 1:\n",
    "                raised_hand.pop(-1)\n",
    "            else:\n",
    "                timestamp = frame_count/fps\n",
    "                raised_hand.append((True, timestamp))\n",
    "            \n",
    "    except:\n",
    "        if (raised_hand and raised_hand[-1][0]) or not raised_hand:\n",
    "            if not (raised_hand and frame_count/fps - raised_hand[-1][1] < 1):\n",
    "                timestamp = frame_count/fps\n",
    "                raised_hand.append((False, timestamp))\n",
    "\n",
    "print(raised_hand)        "
   ]
  },
  {
   "cell_type": "code",
   "execution_count": 4,
   "metadata": {},
   "outputs": [],
   "source": [
    "information = {}\n",
    "num_hand_raised = sum([1 if i[0] else 0 for i in raised_hand])\n",
    "\n",
    "information['How many times was the hand raised?'] = num_hand_raised\n",
    "information['Was the hand raised at that moment?'] = None\n",
    "information['n seconds into the video was the hand raised?'] = None\n"
   ]
  },
  {
   "cell_type": "code",
   "execution_count": 5,
   "metadata": {},
   "outputs": [],
   "source": [
    "answers = {}\n",
    "answers['How many times was the hand raised?'] = f'In the given video, we observe that the hand was raised {num_hand_raised} times'\n",
    "answers['Was the hand raised at that moment?'] = None"
   ]
  },
  {
   "cell_type": "code",
   "execution_count": 6,
   "metadata": {},
   "outputs": [],
   "source": [
    "questions = ['How many time the hand rose?',\n",
    "             'at 5 seconds was the hand raised']\n"
   ]
  },
  {
   "cell_type": "code",
   "execution_count": 7,
   "metadata": {},
   "outputs": [
    {
     "name": "stdout",
     "output_type": "stream",
     "text": [
      "in the video we observe that the hand was raised 4 times\n",
      "yes about 5 seconds into the video we can see the hand being raised\n"
     ]
    }
   ],
   "source": [
    "from Sentence_similarity.similarity import sim\n",
    "\n",
    "for q in questions:\n",
    "    probs = np.zeros(len(information.keys()))\n",
    "    for i, k in enumerate(information.keys()):\n",
    "        probs[i] = sim(q, k)\n",
    "    idx = np.argmax(probs)\n",
    "    if idx in [1, 2]:\n",
    "        moment = int(' '.join([i for i in q if i.isdigit()]))\n",
    "        hr = False\n",
    "        for hand_raised, timestamp in raised_hand:\n",
    "            if timestamp <= moment:\n",
    "                hr = hand_raised\n",
    "            else:\n",
    "                break\n",
    "        if hr:\n",
    "            ans = f'Yes, about {moment} seconds into the provided video, we can see that the hand was raised.'\n",
    "        else:\n",
    "            ans = f'No, about {moment} seconds into the provided video, we can see that the hand was not raised.'\n",
    "            \n",
    "    else:\n",
    "        ans = answers[list(information.keys())[idx]]\n",
    "    possibilities = Paraphrase(ans)\n",
    "    len_pos = len(possibilities)\n",
    "    idx = np.random.choice(len_pos)\n",
    "    ans = possibilities[idx][0]\n",
    "    print(ans)"
   ]
  },
  {
   "cell_type": "code",
   "execution_count": null,
   "metadata": {},
   "outputs": [],
   "source": []
  }
 ],
 "metadata": {
  "kernelspec": {
   "display_name": "hand-detection-advanced-8KyuWID6",
   "language": "python",
   "name": "python3"
  },
  "language_info": {
   "codemirror_mode": {
    "name": "ipython",
    "version": 3
   },
   "file_extension": ".py",
   "mimetype": "text/x-python",
   "name": "python",
   "nbconvert_exporter": "python",
   "pygments_lexer": "ipython3",
   "version": "3.10.6"
  },
  "orig_nbformat": 4
 },
 "nbformat": 4,
 "nbformat_minor": 2
}
